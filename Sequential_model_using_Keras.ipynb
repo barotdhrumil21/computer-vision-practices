{
 "cells": [
  {
   "cell_type": "code",
   "execution_count": 1,
   "metadata": {
    "colab": {
     "autoexec": {
      "startup": false,
      "wait_interval": 0
     },
     "base_uri": "https://localhost:8080/",
     "height": 36
    },
    "colab_type": "code",
    "executionInfo": {
     "elapsed": 1726,
     "status": "ok",
     "timestamp": 1524370926748,
     "user": {
      "displayName": "dhrumil barot",
      "photoUrl": "//lh4.googleusercontent.com/-kOVV5NFpSy8/AAAAAAAAAAI/AAAAAAAAByM/2NusmWGYzMQ/s50-c-k-no/photo.jpg",
      "userId": "114637502676470358062"
     },
     "user_tz": -330
    },
    "id": "qbWVomTrX9rm",
    "outputId": "c72a65cd-275d-41f1-818e-9fecf16b748c"
   },
   "outputs": [
    {
     "name": "stderr",
     "output_type": "stream",
     "text": [
      "C:\\Users\\barot\\Anaconda3\\lib\\site-packages\\h5py\\__init__.py:36: FutureWarning: Conversion of the second argument of issubdtype from `float` to `np.floating` is deprecated. In future, it will be treated as `np.float64 == np.dtype(float).type`.\n",
      "  from ._conv import register_converters as _register_converters\n",
      "Using TensorFlow backend.\n"
     ]
    }
   ],
   "source": [
    "#simplified interface for building models \n",
    "import keras\n",
    "#our handwritten character labeled dataset\n",
    "from keras.datasets import mnist\n",
    "#because our models are simple\n",
    "from keras.models import Sequential\n",
    "#dense means fully connected layers, dropout is a technique to improve convergence, flatten to reshape our matrices for feeding\n",
    "#into respective layers\n",
    "from keras.layers import Dense, Dropout, Flatten\n",
    "#for convolution (images) and pooling is a technique to help choose the most relevant features in an image\n",
    "from keras.layers import Conv2D, MaxPooling2D\n",
    "from keras import backend as K\n",
    "import matplotlib.pyplot as plt\n",
    "import math\n",
    "import numpy as np"
   ]
  },
  {
   "cell_type": "code",
   "execution_count": 2,
   "metadata": {
    "colab": {
     "autoexec": {
      "startup": false,
      "wait_interval": 0
     }
    },
    "colab_type": "code",
    "collapsed": true,
    "id": "dDwwh40zYrBe"
   },
   "outputs": [],
   "source": [
    "#mini batch gradient descent ftw\n",
    "batch_size = 128\n",
    "#10 difference characters\n",
    "num_classes = 10\n",
    "#very short training time\n",
    "epochs = 12\n",
    "#input shape of each image\n",
    "\n",
    "\n",
    "# input image dimensions\n",
    "#28x28 pixel images. \n",
    "img_rows, img_cols = 28, 28\n",
    "img_shape = (28, 28)"
   ]
  },
  {
   "cell_type": "code",
   "execution_count": 3,
   "metadata": {
    "colab": {
     "autoexec": {
      "startup": false,
      "wait_interval": 0
     }
    },
    "colab_type": "code",
    "collapsed": true,
    "id": "CknfhuctY2D0"
   },
   "outputs": [],
   "source": [
    "# the data downloaded, shuffled and split between train and test sets\n",
    "#if only all datasets were this easy to import and format\n",
    "(x_train, y_train), (x_test, y_test) = mnist.load_data()"
   ]
  },
  {
   "cell_type": "code",
   "execution_count": 4,
   "metadata": {
    "colab": {
     "autoexec": {
      "startup": false,
      "wait_interval": 0
     }
    },
    "colab_type": "code",
    "collapsed": true,
    "id": "-rnhVPW3YT1Y"
   },
   "outputs": [],
   "source": [
    "#this assumes our data format\n",
    "#For 3D data, \"channels_last\" assumes (conv_dim1, conv_dim2, conv_dim3,channels) while\n",
    "#\"channels_first\" assumes (channels, conv_dim1, conv_dim2, conv_dim3).\n",
    "if K.image_data_format() == 'channels_first':\n",
    "    x_train = x_train.reshape(x_train.shape[0], 1, img_rows, img_cols)\n",
    "    x_test = x_test.reshape(x_test.shape[0], 1, img_rows, img_cols)\n",
    "    input_shape = (1, img_rows, img_cols)\n",
    "else:\n",
    "    x_train = x_train.reshape(x_train.shape[0], img_rows, img_cols, 1)\n",
    "    x_test = x_test.reshape(x_test.shape[0], img_rows, img_cols, 1)\n",
    "    input_shape = (img_rows, img_cols, 1)"
   ]
  },
  {
   "cell_type": "code",
   "execution_count": 5,
   "metadata": {
    "colab": {
     "autoexec": {
      "startup": false,
      "wait_interval": 0
     },
     "base_uri": "https://localhost:8080/",
     "height": 91
    },
    "colab_type": "code",
    "executionInfo": {
     "elapsed": 808,
     "status": "ok",
     "timestamp": 1524370938198,
     "user": {
      "displayName": "dhrumil barot",
      "photoUrl": "//lh4.googleusercontent.com/-kOVV5NFpSy8/AAAAAAAAAAI/AAAAAAAAByM/2NusmWGYzMQ/s50-c-k-no/photo.jpg",
      "userId": "114637502676470358062"
     },
     "user_tz": -330
    },
    "id": "gzLeF13rk_IW",
    "outputId": "9cb5ccbf-efca-4a50-9d2c-d4fb0ea0dbca"
   },
   "outputs": [
    {
     "name": "stdout",
     "output_type": "stream",
     "text": [
      "x_train shape: (60000, 28, 28, 1)\n",
      "x_test shape: (10000, 28, 28, 1)\n",
      "60000 train samples\n",
      "10000 test samples\n"
     ]
    }
   ],
   "source": [
    "#more reshaping\n",
    "x_train = x_train.astype('float32')\n",
    "x_test = x_test.astype('float32')\n",
    "x_train /= 255\n",
    "x_test /= 255\n",
    "#x_train=x_train.reshape((-1,28,28,1))\n",
    "#x_test=x_test.reshape((-1,28,28,1))\n",
    "#y_train=x_train.reshape((-1,28,28,1))\n",
    "#y_test=x_test.reshape((-1,28,28,1))\n",
    "\n",
    "print('x_train shape:', x_train.shape)\n",
    "print('x_test shape:', x_test.shape)\n",
    "\n",
    "print(x_train.shape[0], 'train samples')\n",
    "print(x_test.shape[0], 'test samples')\n",
    "\n",
    "# convert class vectors to binary class matrices\n",
    "y_train = keras.utils.to_categorical(y_train, num_classes)\n",
    "y_test = keras.utils.to_categorical(y_test, num_classes)\n"
   ]
  },
  {
   "cell_type": "code",
   "execution_count": 6,
   "metadata": {
    "colab": {
     "autoexec": {
      "startup": false,
      "wait_interval": 0
     }
    },
    "colab_type": "code",
    "collapsed": true,
    "id": "CFC8K47dYaY2"
   },
   "outputs": [],
   "source": [
    "#build our model\n",
    "model = Sequential()\n",
    "#convolutional layer with rectified linear unit activation\n",
    "model.add(Conv2D(32, kernel_size=(3, 3),\n",
    "                 activation='relu',\n",
    "                 input_shape=input_shape))\n",
    "#again\n",
    "model.add(Conv2D(64, (3, 3), activation='relu'))\n",
    "#choose the best features via pooling\n",
    "model.add(MaxPooling2D(pool_size=(2, 2)))\n",
    "#randomly turn neurons on and off to improve convergence\n",
    "model.add(Dropout(0.25))\n",
    "#flatten since too many dimensions, we only want a classification output\n",
    "model.add(Flatten())\n",
    "#fully connected to get all relevant data\n",
    "model.add(Dense(128, activation='relu'))\n",
    "#one more dropout for convergence' sake :) \n",
    "model.add(Dropout(0.5))\n",
    "#output a softmax to squash the matrix into output probabilities\n",
    "model.add(Dense(num_classes, activation='softmax'))\n",
    "#Adaptive learning rate (adaDelta) is a popular form of gradient descent rivaled only by adam and adagrad\n",
    "#categorical ce since we have multiple classes (10) \n",
    "model.compile(loss=keras.losses.categorical_crossentropy,\n",
    "              optimizer=keras.optimizers.Adadelta(),\n",
    "              metrics=['accuracy'])"
   ]
  },
  {
   "cell_type": "code",
   "execution_count": 7,
   "metadata": {
    "colab": {
     "autoexec": {
      "startup": false,
      "wait_interval": 0
     },
     "base_uri": "https://localhost:8080/",
     "height": 464
    },
    "colab_type": "code",
    "executionInfo": {
     "elapsed": 110522,
     "status": "ok",
     "timestamp": 1524372427922,
     "user": {
      "displayName": "dhrumil barot",
      "photoUrl": "//lh4.googleusercontent.com/-kOVV5NFpSy8/AAAAAAAAAAI/AAAAAAAAByM/2NusmWGYzMQ/s50-c-k-no/photo.jpg",
      "userId": "114637502676470358062"
     },
     "user_tz": -330
    },
    "id": "jGwlXvO9N0YC",
    "outputId": "f7a364b1-8a28-4643-e153-f00f25ab1a7a"
   },
   "outputs": [
    {
     "name": "stdout",
     "output_type": "stream",
     "text": [
      "Train on 60000 samples, validate on 10000 samples\n",
      "Epoch 1/10\n",
      "60000/60000 [==============================] - 49s - loss: 0.3264 - acc: 0.9010 - val_loss: 0.0722 - val_acc: 0.9775\n",
      "Epoch 2/10\n",
      "60000/60000 [==============================] - 31s - loss: 0.1076 - acc: 0.9680 - val_loss: 0.0491 - val_acc: 0.9842\n",
      "Epoch 3/10\n",
      "60000/60000 [==============================] - 30s - loss: 0.0837 - acc: 0.9750 - val_loss: 0.0427 - val_acc: 0.9867\n",
      "Epoch 4/10\n",
      "60000/60000 [==============================] - 30s - loss: 0.0682 - acc: 0.9795 - val_loss: 0.0396 - val_acc: 0.9874\n",
      "Epoch 5/10\n",
      "60000/60000 [==============================] - 30s - loss: 0.0572 - acc: 0.9828 - val_loss: 0.0330 - val_acc: 0.9886\n",
      "Epoch 6/10\n",
      "60000/60000 [==============================] - 30s - loss: 0.0531 - acc: 0.9837 - val_loss: 0.0356 - val_acc: 0.9884\n",
      "Epoch 7/10\n",
      "60000/60000 [==============================] - 30s - loss: 0.0468 - acc: 0.9861 - val_loss: 0.0330 - val_acc: 0.9884\n",
      "Epoch 8/10\n",
      "60000/60000 [==============================] - 30s - loss: 0.0435 - acc: 0.9872 - val_loss: 0.0319 - val_acc: 0.9897\n",
      "Epoch 9/10\n",
      "60000/60000 [==============================] - 30s - loss: 0.0412 - acc: 0.9880 - val_loss: 0.0314 - val_acc: 0.9897\n",
      "Epoch 10/10\n",
      "60000/60000 [==============================] - 30s - loss: 0.0379 - acc: 0.9884 - val_loss: 0.0295 - val_acc: 0.9904\n",
      "Test loss: 0.029530891280538343\n",
      "Test accuracy: 0.9904\n"
     ]
    }
   ],
   "source": [
    "#train that ish!\n",
    "history=model.fit(x_train, y_train,\n",
    "          batch_size=batch_size,\n",
    "          epochs=10,\n",
    "          verbose=1,\n",
    "          validation_data=(x_test, y_test))\n",
    " #how well did it do? \n",
    "score = model.evaluate(x_test, y_test, verbose=0)\n",
    "print('Test loss:', score[0])\n",
    "print('Test accuracy:', score[1])"
   ]
  },
  {
   "cell_type": "code",
   "execution_count": 8,
   "metadata": {
    "colab": {
     "autoexec": {
      "startup": false,
      "wait_interval": 0
     }
    },
    "colab_type": "code",
    "collapsed": true,
    "id": "Jox_mQEbsV5-"
   },
   "outputs": [],
   "source": [
    "def plot_images(images, cls_true, cls_pred=None):\n",
    "    assert len(images) == len(cls_true) == 9\n",
    "    \n",
    "    # Create figure with 3x3 sub-plots.\n",
    "    fig, axes = plt.subplots(3, 3)\n",
    "    fig.subplots_adjust(hspace=0.7, wspace=0.7)\n",
    "\n",
    "    for i, ax in enumerate(axes.flat):\n",
    "        # Plot image.\n",
    "        ax.imshow(images[i].reshape(img_shape), cmap='binary')\n",
    "\n",
    "        # Show true and predicted classes.\n",
    "        if cls_pred is None:\n",
    "            xlabel = \"True: {0}\".format(cls_true[i])\n",
    "        else:\n",
    "            xlabel = \"True: {0}, Pred: {1}\".format(cls_true[i], cls_pred[i])\n",
    "\n",
    "        # Show the classes as the label on the x-axis.\n",
    "        #ax.set_xlabel(xlabel)\n",
    "        \n",
    "        # Remove ticks from the plot.\n",
    "        ax.set_xticks([])\n",
    "        ax.set_yticks([])\n",
    "    \n",
    "    # Ensure the plot is shown correctly with multiple plots\n",
    "    # in a single Notebook cell.\n",
    "    plt.show()"
   ]
  },
  {
   "cell_type": "code",
   "execution_count": 9,
   "metadata": {
    "colab": {
     "autoexec": {
      "startup": false,
      "wait_interval": 0
     }
    },
    "colab_type": "code",
    "collapsed": true,
    "id": "X5vwo-pSKPku"
   },
   "outputs": [],
   "source": [
    "def plot_conv_weights(weights, input_channel=0):\n",
    "    # Assume weights are TensorFlow ops for 4-dim variables\n",
    "    # e.g. weights_conv1 or weights_conv2.\n",
    "    \n",
    "    # Retrieve the values of the weight-variables from TensorFlow.\n",
    "    # A feed-dict is not necessary because nothing is calculated.\n",
    "    w = weights#session.run(weights)\n",
    "\n",
    "    # Get the lowest and highest values for the weights.\n",
    "    # This is used to correct the colour intensity across\n",
    "    # the images so they can be compared with each other.\n",
    "    w_min = np.min(w)\n",
    "    w_max = np.max(w)\n",
    "\n",
    "    # Number of filters used in the conv. layer.\n",
    "    num_filters = w.shape[3]\n",
    "\n",
    "    # Number of grids to plot.\n",
    "    # Rounded-up, square-root of the number of filters.\n",
    "    num_grids = math.ceil(math.sqrt(num_filters))\n",
    "    \n",
    "    # Create figure with a grid of sub-plots.\n",
    "    fig, axes = plt.subplots(num_grids, num_grids)\n",
    "\n",
    "    # Plot all the filter-weights.\n",
    "    for i, ax in enumerate(axes.flat):\n",
    "        # Only plot the valid filter-weights.\n",
    "        if i<num_filters:\n",
    "            # Get the weights for the i'th filter of the input channel.\n",
    "            # See new_conv_layer() for details on the format\n",
    "            # of this 4-dim tensor.\n",
    "            img = w[:, :, input_channel, i]\n",
    "\n",
    "            # Plot image.\n",
    "            ax.imshow(img,\n",
    "                      interpolation='nearest', cmap='seismic')\n",
    "        \n",
    "        # Remove ticks from the plot.\n",
    "        ax.set_xticks([])\n",
    "        ax.set_yticks([])\n",
    "    \n",
    "    # Ensure the plot is shown correctly with multiple plots\n",
    "    # in a single Notebook cell.\n",
    "    plt.show()"
   ]
  },
  {
   "cell_type": "code",
   "execution_count": 10,
   "metadata": {
    "colab": {
     "autoexec": {
      "startup": false,
      "wait_interval": 0
     }
    },
    "colab_type": "code",
    "collapsed": true,
    "id": "5KbznNI3VfaQ"
   },
   "outputs": [],
   "source": [
    "weights1 = model.layers[0].get_weights()[0]\n",
    "\n",
    "weights2 = model.layers[1].get_weights()[0]\n",
    "\n",
    "weights6 = model.layers[5].get_weights()[0]\n",
    "\n",
    "weights8 = model.layers[7].get_weights()[0]"
   ]
  },
  {
   "cell_type": "code",
   "execution_count": 11,
   "metadata": {
    "colab": {
     "autoexec": {
      "startup": false,
      "wait_interval": 0
     },
     "base_uri": "https://localhost:8080/",
     "height": 330
    },
    "colab_type": "code",
    "executionInfo": {
     "elapsed": 1228,
     "status": "ok",
     "timestamp": 1524371208454,
     "user": {
      "displayName": "dhrumil barot",
      "photoUrl": "//lh4.googleusercontent.com/-kOVV5NFpSy8/AAAAAAAAAAI/AAAAAAAAByM/2NusmWGYzMQ/s50-c-k-no/photo.jpg",
      "userId": "114637502676470358062"
     },
     "user_tz": -330
    },
    "id": "1XS7cz6dWXFm",
    "outputId": "1296aa18-f007-4e9f-d334-9f5eb8965e05",
    "scrolled": true
   },
   "outputs": [
    {
     "data": {
      "image/png": "[encoded data removed]",
      "text/plain": [
       "<matplotlib.figure.Figure at 0x28f8f132198>"
      ]
     },
     "metadata": {},
     "output_type": "display_data"
    }
   ],
   "source": [
    "images = x_train[0:9]\n",
    "cls_true = x_test[0:9]\n",
    "plot_images(images=images,cls_true=cls_true,cls_pred=None)"
   ]
  },
  {
   "cell_type": "code",
   "execution_count": 12,
   "metadata": {
    "colab": {
     "autoexec": {
      "startup": false,
      "wait_interval": 0
     },
     "base_uri": "https://localhost:8080/",
     "height": 1343
    },
    "colab_type": "code",
    "executionInfo": {
     "elapsed": 12324,
     "status": "ok",
     "timestamp": 1524371569960,
     "user": {
      "displayName": "dhrumil barot",
      "photoUrl": "//lh4.googleusercontent.com/-kOVV5NFpSy8/AAAAAAAAAAI/AAAAAAAAByM/2NusmWGYzMQ/s50-c-k-no/photo.jpg",
      "userId": "114637502676470358062"
     },
     "user_tz": -330
    },
    "id": "toM6AXEtX5ho",
    "outputId": "af767588-1598-42a4-d762-f7afc9a10c0e",
    "scrolled": true
   },
   "outputs": [
    {
     "data": {
      "image/png": "[encoded data removed]",
      "text/plain": [
       "<matplotlib.figure.Figure at 0x28f93701780>"
      ]
     },
     "metadata": {},
     "output_type": "display_data"
    },
    {
     "name": "stdout",
     "output_type": "stream",
     "text": [
      "conv_layer1 None\n"
     ]
    },
    {
     "data": {
      "image/png": "[encoded data removed]",
      "text/plain": [
       "<matplotlib.figure.Figure at 0x28fcc7e6588>"
      ]
     },
     "metadata": {},
     "output_type": "display_data"
    },
    {
     "name": "stdout",
     "output_type": "stream",
     "text": [
      "conv_layer2 None\n"
     ]
    },
    {
     "data": {
      "image/png": "[encoded data removed]",
      "text/plain": [
       "<matplotlib.figure.Figure at 0x28fcc7e62b0>"
      ]
     },
     "metadata": {},
     "output_type": "display_data"
    },
    {
     "name": "stdout",
     "output_type": "stream",
     "text": [
      "dense_layer1 None\n"
     ]
    },
    {
     "data": {
      "image/png": "[encoded data removed]",
      "text/plain": [
       "<matplotlib.figure.Figure at 0x28fccb3b550>"
      ]
     },
     "metadata": {},
     "output_type": "display_data"
    },
    {
     "name": "stdout",
     "output_type": "stream",
     "text": [
      "dense_layer2 None\n"
     ]
    }
   ],
   "source": [
    "print(\"conv_layer1\", plot_conv_weights(weights1[0]))\n",
    "print(\"conv_layer2\", plot_conv_weights(weights2))\n",
    "print(\"dense_layer1\", plot_conv_weights(weights2))\n",
    "print(\"dense_layer2\", plot_conv_weights(weights2))"
   ]
  },
  {
   "cell_type": "code",
   "execution_count": 37,
   "metadata": {
    "colab": {
     "autoexec": {
      "startup": false,
      "wait_interval": 0
     },
     "base_uri": "https://localhost:8080/",
     "height": 735
    },
    "colab_type": "code",
    "executionInfo": {
     "elapsed": 1526,
     "status": "ok",
     "timestamp": 1524372701052,
     "user": {
      "displayName": "dhrumil barot",
      "photoUrl": "//lh4.googleusercontent.com/-kOVV5NFpSy8/AAAAAAAAAAI/AAAAAAAAByM/2NusmWGYzMQ/s50-c-k-no/photo.jpg",
      "userId": "114637502676470358062"
     },
     "user_tz": -330
    },
    "id": "kzRwhjU0qmgC",
    "outputId": "5b6ebbeb-bb83-4fc2-f0b7-de18b3bf7452"
   },
   "outputs": [
    {
     "data": {
      "image/png": "[encoded data removed]",
      "text/plain": [
       "<matplotlib.figure.Figure at 0x7f545a9d1438>"
      ]
     },
     "metadata": {
      "tags": []
     },
     "output_type": "display_data"
    },
    {
     "data": {
      "image/png": "[encoded data removed]",
      "text/plain": [
       "<matplotlib.figure.Figure at 0x7f545ae4bd30>"
      ]
     },
     "metadata": {
      "tags": []
     },
     "output_type": "display_data"
    }
   ],
   "source": [
    "# summarize history for accuracy\n",
    "plt.plot(history.history['acc'])\n",
    "plt.plot(history.history['val_acc'])\n",
    "plt.title('model accuracy')\n",
    "plt.ylabel('accuracy')\n",
    "plt.xlabel('epoch')\n",
    "plt.legend(['train', 'test'], loc='upper left')\n",
    "plt.show()\n",
    "# summarize history for loss\n",
    "plt.plot(history.history['loss'])\n",
    "plt.plot(history.history['val_loss'])\n",
    "plt.title('model loss')\n",
    "plt.ylabel('loss')\n",
    "plt.xlabel('epoch')\n",
    "plt.legend(['train', 'test'], loc='upper left')\n",
    "plt.show()"
   ]
  }
 ],
 "metadata": {
  "accelerator": "GPU",
  "colab": {
   "default_view": {},
   "name": "Sequential model using Keras",
   "provenance": [],
   "version": "0.3.2",
   "views": {}
  },
  "kernelspec": {
   "display_name": "Python 3",
   "language": "python",
   "name": "python3"
  },
  "language_info": {
   "codemirror_mode": {
    "name": "ipython",
    "version": 3
   },
   "file_extension": ".py",
   "mimetype": "text/x-python",
   "name": "python",
   "nbconvert_exporter": "python",
   "pygments_lexer": "ipython3",
   "version": "3.6.1"
  }
 },
 "nbformat": 4,
 "nbformat_minor": 1
}
